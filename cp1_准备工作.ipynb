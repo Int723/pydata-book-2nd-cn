{
 "cells": [
  {
   "cell_type": "raw",
   "metadata": {},
   "source": [
    "下载本书：http://www.jianshu.com/p/fad9e41c1a42（更新为GitHub链接）\n",
    "\n",
    "GitHub（欢迎提pull request，GitHub上的md文件可以用来自制电子书，pdf、mobi、epub格式的都行）：\n",
    "https://github.com/iamseancheney/python_for_data_analysis_2nd_chinese_version\n",
    "\n",
    "GitBook（有锚点功能）：\n",
    "https://seancheney.gitbook.io/python-for-data-analysis-2nd/\n",
    "\n",
    "下载本书代码：https://github.com/wesm/pydata-book（建议把代码下载下来之后，安装好Anaconda 3.6，在目录文件夹中用Jupyter notebook打开）\n",
    "\n",
    "作者：SeanCheney\n",
    "链接：https://www.jianshu.com/p/04d180d90a3f\n",
    "來源：简书\n",
    "简书著作权归作者所有，任何形式的转载都请联系作者获得授权并注明出处。"
   ]
  },
  {
   "cell_type": "code",
   "execution_count": null,
   "metadata": {
    "collapsed": true
   },
   "outputs": [],
   "source": []
  }
 ],
 "metadata": {
  "kernelspec": {
   "display_name": "Python 3",
   "language": "python",
   "name": "python3"
  },
  "language_info": {
   "codemirror_mode": {
    "name": "ipython",
    "version": 3
   },
   "file_extension": ".py",
   "mimetype": "text/x-python",
   "name": "python",
   "nbconvert_exporter": "python",
   "pygments_lexer": "ipython3",
   "version": "3.6.1"
  }
 },
 "nbformat": 4,
 "nbformat_minor": 2
}
